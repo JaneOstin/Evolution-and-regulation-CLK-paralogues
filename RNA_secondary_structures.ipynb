{
 "cells": [
  {
   "cell_type": "code",
   "execution_count": 25,
   "id": "7cbd0a81",
   "metadata": {},
   "outputs": [],
   "source": [
    "import biotite.sequence.align as align\n",
    "import biotite.sequence.graphics as graphics\n",
    "import matplotlib.pyplot as plt\n",
    "\n",
    "from RNA import *"
   ]
  },
  {
   "cell_type": "code",
   "execution_count": 26,
   "id": "f1950529",
   "metadata": {},
   "outputs": [],
   "source": [
    "# Add the name of the gene and structure handle sequences\n",
    "handle_1 = \"TCTCCCCGCTGAA\"\n",
    "handle_2 = \"CTCCCCGCTGAATGAATTG\"\n",
    "\n",
    "label_1 = 'CLK1'\n",
    "label_2 = 'CLK4'"
   ]
  },
  {
   "cell_type": "code",
   "execution_count": null,
   "id": "25ebcc5a",
   "metadata": {},
   "outputs": [
    {
     "data": {
      "image/png": "[encoded data removed]",
      "text/plain": [
       "<Figure size 800x200 with 2 Axes>"
      ]
     },
     "metadata": {},
     "output_type": "display_data"
    }
   ],
   "source": [
    "# Make alignment of handels and visualise them\n",
    "\n",
    "matrix = align.SubstitutionMatrix.std_nucleotide_matrix()\n",
    "alignment = align.align_optimal(biotite.sequence.NucleotideSequence(handle_1),\n",
    "                                biotite.sequence.NucleotideSequence(handle_2), \n",
    "                                matrix, gap_penalty=(-80, -50), terminal_penalty=False)\n",
    "\n",
    "fig = plt.figure(figsize=(8, 2))\n",
    "ax = fig.add_subplot(111)\n",
    "graphics.plot_alignment_similarity_based(\n",
    "    ax,\n",
    "    alignment[0],\n",
    "    matrix=matrix,\n",
    "    labels=[label_1, label_2],\n",
    "    show_numbers=True,\n",
    "    show_line_position=True,\n",
    ")\n",
    "fig.tight_layout()\n",
    "\n",
    "plt.show()"
   ]
  },
  {
   "cell_type": "code",
   "execution_count": null,
   "id": "646985d4",
   "metadata": {},
   "outputs": [
    {
     "name": "stdout",
     "output_type": "stream",
     "text": [
      "Structure in Vienna format: ..........(((((((((((.(((((....((((((.............................................))))))))))))))))))))))........\n"
     ]
    }
   ],
   "source": [
    "# Sequence to be fold\n",
    "sequence = \"GCCTGAATATCTCCCCGCTGAATGAATTGCGTATTCTGCCCTAAAAAAAAAAAAAAAAAAAAAAAAAAAAAAAATCTTTTTAAGAATAGTTTGTCAGCGGGGGGCTAAAGAA\"\n",
    "\n",
    "# Calculate the minimum free energy and structure\n",
    "mfe_structure, mfe_value = fold(sequence)\n",
    "\n",
    "# Get the structure in Vienna format\n",
    "print(f\"Structure in Vienna format: {mfe_structure}\")"
   ]
  }
 ],
 "metadata": {
  "kernelspec": {
   "display_name": "base",
   "language": "python",
   "name": "python3"
  },
  "language_info": {
   "codemirror_mode": {
    "name": "ipython",
    "version": 3
   },
   "file_extension": ".py",
   "mimetype": "text/x-python",
   "name": "python",
   "nbconvert_exporter": "python",
   "pygments_lexer": "ipython3",
   "version": "3.12.7"
  }
 },
 "nbformat": 4,
 "nbformat_minor": 5
}
