{
 "cells": [
  {
   "cell_type": "code",
   "execution_count": 1,
   "id": "e151ab28",
   "metadata": {},
   "outputs": [],
   "source": [
    "import pandas as pd\n",
    "import numpy as np\n",
    "import warnings\n",
    "import sys\n",
    "\n",
    "sys.path.append('..')\n",
    "from modules.utils import make_junction_table, split_rows, get_cassete_exons_from_ipsa, make_track\n",
    "from pathlib import Path"
   ]
  },
  {
   "cell_type": "markdown",
   "id": "952eff85",
   "metadata": {},
   "source": [
    "**Specify the paths and which files we take, and also which samples they correspond to**"
   ]
  },
  {
   "cell_type": "markdown",
   "id": "c03cb338",
   "metadata": {},
   "source": [
    "_Example:_ for mice RNA-seq experiments"
   ]
  },
  {
   "cell_type": "code",
   "execution_count": null,
   "id": "96e3a008",
   "metadata": {},
   "outputs": [],
   "source": [
    "path = Path('./pyIPSA_mice/').expanduser() # Path to raw pyIPSA data\n",
    "path_out_bed = path/'cassete_exons_mice.bed' # Path to custom track\n",
    "path_out_csv = path/'cassete_exons_mice.csv' # Path to table with cassete exons\n",
    "\n",
    "meta_mice = pd.read_csv(path/'SraRunTable.csv')\n",
    "meta_mice = meta_mice[['Run', 'treatment']]\n",
    "meta_mice = meta_mice.replace({'Harringtonine': 'ctrl_chx', 'untreated': 'ctrl', 'Cycloheximide': 'ctrl_chx'})\n",
    "meta_mice.rename(columns={\"Run\": \"sample\", \"treatment\": \"group\"}, inplace=True)\n",
    "\n",
    "meta_junctions = meta_mice.copy()\n",
    "meta_sites = meta_mice.copy()\n",
    "meta_junctions['files'] = meta_junctions['sample'].astype(str) + '_Aligned.sortedByCoord.out.J6'\n",
    "meta_sites['files'] = meta_sites['sample'].astype(str) + '_Aligned.sortedByCoord.out.S6'"
   ]
  },
  {
   "cell_type": "markdown",
   "id": "f9603a7a",
   "metadata": {},
   "source": [
    "Collect a table of all experiments for splice junctions and sites"
   ]
  },
  {
   "cell_type": "code",
   "execution_count": 4,
   "id": "47d6f9ba",
   "metadata": {},
   "outputs": [],
   "source": [
    "with warnings.catch_warnings():\n",
    "    warnings.simplefilter(\"ignore\", category=FutureWarning)\n",
    "\n",
    "    colnames_j = ['junction_id', 'total_count', 'staggered_count', 'entropy', 'annotation_status', 'splice_site']\n",
    "    data_j6 = make_junction_table(meta_junctions, path, colnames_j)\n",
    "\n",
    "    colnames_s6 = ['site_id', 'total_count', 'staggered_count', 'entropy']\n",
    "    data_s6 = make_junction_table(meta_sites, path, colnames_s6)"
   ]
  },
  {
   "cell_type": "markdown",
   "id": "ea8271d1",
   "metadata": {},
   "source": [
    "Merge J6 and S6 tables first by start in S6, then by end in S6"
   ]
  },
  {
   "cell_type": "code",
   "execution_count": 5,
   "id": "b2285b0e",
   "metadata": {},
   "outputs": [],
   "source": [
    "data_merged = data_j6.merge(data_s6.drop('strand', axis=1), left_on=['experiment', 'chrom', 'start'], right_on=['experiment', 'chrom', 'site'], how='left', suffixes=('', '_start'))\n",
    "data_merged = data_merged.merge(data_s6.drop('strand', axis=1), left_on=['experiment', 'chrom', 'end'], right_on=['experiment', 'chrom', 'site'], how='left', suffixes=('', '_end'))"
   ]
  },
  {
   "cell_type": "markdown",
   "id": "b5165f0b",
   "metadata": {},
   "source": [
    "Check that we have several reads with new sites"
   ]
  },
  {
   "cell_type": "code",
   "execution_count": 6,
   "id": "c012418c",
   "metadata": {},
   "outputs": [
    {
     "data": {
      "text/html": [
       "<div>\n",
       "<style scoped>\n",
       "    .dataframe tbody tr th:only-of-type {\n",
       "        vertical-align: middle;\n",
       "    }\n",
       "\n",
       "    .dataframe tbody tr th {\n",
       "        vertical-align: top;\n",
       "    }\n",
       "\n",
       "    .dataframe thead th {\n",
       "        text-align: right;\n",
       "    }\n",
       "</style>\n",
       "<table border=\"1\" class=\"dataframe\">\n",
       "  <thead>\n",
       "    <tr style=\"text-align: right;\">\n",
       "      <th></th>\n",
       "      <th>junction_id</th>\n",
       "      <th>experiment</th>\n",
       "      <th>total_count</th>\n",
       "      <th>annotation_status</th>\n",
       "      <th>chrom</th>\n",
       "      <th>start</th>\n",
       "      <th>end</th>\n",
       "      <th>strand</th>\n",
       "      <th>site_id</th>\n",
       "      <th>site</th>\n",
       "      <th>total_count_site</th>\n",
       "    </tr>\n",
       "  </thead>\n",
       "  <tbody>\n",
       "    <tr>\n",
       "      <th>0</th>\n",
       "      <td>chr10_100584009_100586191_-</td>\n",
       "      <td>ctrl_chx</td>\n",
       "      <td>5</td>\n",
       "      <td>3</td>\n",
       "      <td>chr10</td>\n",
       "      <td>100584009</td>\n",
       "      <td>100586191</td>\n",
       "      <td>-</td>\n",
       "      <td>NaN</td>\n",
       "      <td>NaN</td>\n",
       "      <td>NaN</td>\n",
       "    </tr>\n",
       "    <tr>\n",
       "      <th>1</th>\n",
       "      <td>chr10_105763461_105765220_-</td>\n",
       "      <td>ctrl_chx</td>\n",
       "      <td>17</td>\n",
       "      <td>3</td>\n",
       "      <td>chr10</td>\n",
       "      <td>105763461</td>\n",
       "      <td>105765220</td>\n",
       "      <td>-</td>\n",
       "      <td>NaN</td>\n",
       "      <td>NaN</td>\n",
       "      <td>NaN</td>\n",
       "    </tr>\n",
       "    <tr>\n",
       "      <th>2</th>\n",
       "      <td>chr10_105765291_105765964_-</td>\n",
       "      <td>ctrl_chx</td>\n",
       "      <td>12</td>\n",
       "      <td>3</td>\n",
       "      <td>chr10</td>\n",
       "      <td>105765291</td>\n",
       "      <td>105765964</td>\n",
       "      <td>-</td>\n",
       "      <td>NaN</td>\n",
       "      <td>NaN</td>\n",
       "      <td>NaN</td>\n",
       "    </tr>\n",
       "    <tr>\n",
       "      <th>3</th>\n",
       "      <td>chr10_105779681_105793340_-</td>\n",
       "      <td>ctrl</td>\n",
       "      <td>3</td>\n",
       "      <td>3</td>\n",
       "      <td>chr10</td>\n",
       "      <td>105779681</td>\n",
       "      <td>105793340</td>\n",
       "      <td>-</td>\n",
       "      <td>NaN</td>\n",
       "      <td>NaN</td>\n",
       "      <td>NaN</td>\n",
       "    </tr>\n",
       "    <tr>\n",
       "      <th>4</th>\n",
       "      <td>chr10_105793413_105794362_-</td>\n",
       "      <td>ctrl</td>\n",
       "      <td>3</td>\n",
       "      <td>3</td>\n",
       "      <td>chr10</td>\n",
       "      <td>105793413</td>\n",
       "      <td>105794362</td>\n",
       "      <td>-</td>\n",
       "      <td>NaN</td>\n",
       "      <td>NaN</td>\n",
       "      <td>NaN</td>\n",
       "    </tr>\n",
       "    <tr>\n",
       "      <th>...</th>\n",
       "      <td>...</td>\n",
       "      <td>...</td>\n",
       "      <td>...</td>\n",
       "      <td>...</td>\n",
       "      <td>...</td>\n",
       "      <td>...</td>\n",
       "      <td>...</td>\n",
       "      <td>...</td>\n",
       "      <td>...</td>\n",
       "      <td>...</td>\n",
       "      <td>...</td>\n",
       "    </tr>\n",
       "    <tr>\n",
       "      <th>157679</th>\n",
       "      <td>chrY_90793417_90816349_+</td>\n",
       "      <td>ctrl</td>\n",
       "      <td>332</td>\n",
       "      <td>3</td>\n",
       "      <td>chrY</td>\n",
       "      <td>90793417</td>\n",
       "      <td>90816349</td>\n",
       "      <td>+</td>\n",
       "      <td>chrY_90793417_+</td>\n",
       "      <td>90793417</td>\n",
       "      <td>187.0</td>\n",
       "    </tr>\n",
       "    <tr>\n",
       "      <th>157679</th>\n",
       "      <td>chrY_90793417_90816349_+</td>\n",
       "      <td>ctrl</td>\n",
       "      <td>332</td>\n",
       "      <td>3</td>\n",
       "      <td>chrY</td>\n",
       "      <td>90793417</td>\n",
       "      <td>90816349</td>\n",
       "      <td>+</td>\n",
       "      <td>chrY_90816349_+</td>\n",
       "      <td>90816349</td>\n",
       "      <td>7.0</td>\n",
       "    </tr>\n",
       "    <tr>\n",
       "      <th>157680</th>\n",
       "      <td>chrY_90793417_90816349_+</td>\n",
       "      <td>ctrl_chx</td>\n",
       "      <td>767</td>\n",
       "      <td>3</td>\n",
       "      <td>chrY</td>\n",
       "      <td>90793417</td>\n",
       "      <td>90816349</td>\n",
       "      <td>+</td>\n",
       "      <td>chrY_90793417_+</td>\n",
       "      <td>90793417</td>\n",
       "      <td>306.0</td>\n",
       "    </tr>\n",
       "    <tr>\n",
       "      <th>157681</th>\n",
       "      <td>chrY_90793417_90822286_+</td>\n",
       "      <td>ctrl_chx</td>\n",
       "      <td>3</td>\n",
       "      <td>1</td>\n",
       "      <td>chrY</td>\n",
       "      <td>90793417</td>\n",
       "      <td>90822286</td>\n",
       "      <td>+</td>\n",
       "      <td>chrY_90793417_+</td>\n",
       "      <td>90793417</td>\n",
       "      <td>306.0</td>\n",
       "    </tr>\n",
       "    <tr>\n",
       "      <th>157682</th>\n",
       "      <td>chrY_90793680_90816349_+</td>\n",
       "      <td>ctrl_chx</td>\n",
       "      <td>10</td>\n",
       "      <td>3</td>\n",
       "      <td>chrY</td>\n",
       "      <td>90793680</td>\n",
       "      <td>90816349</td>\n",
       "      <td>+</td>\n",
       "      <td>chrY_90793680_+</td>\n",
       "      <td>90793680</td>\n",
       "      <td>222.0</td>\n",
       "    </tr>\n",
       "  </tbody>\n",
       "</table>\n",
       "<p>172497 rows × 11 columns</p>\n",
       "</div>"
      ],
      "text/plain": [
       "                        junction_id experiment  total_count  \\\n",
       "0       chr10_100584009_100586191_-   ctrl_chx            5   \n",
       "1       chr10_105763461_105765220_-   ctrl_chx           17   \n",
       "2       chr10_105765291_105765964_-   ctrl_chx           12   \n",
       "3       chr10_105779681_105793340_-       ctrl            3   \n",
       "4       chr10_105793413_105794362_-       ctrl            3   \n",
       "...                             ...        ...          ...   \n",
       "157679     chrY_90793417_90816349_+       ctrl          332   \n",
       "157679     chrY_90793417_90816349_+       ctrl          332   \n",
       "157680     chrY_90793417_90816349_+   ctrl_chx          767   \n",
       "157681     chrY_90793417_90822286_+   ctrl_chx            3   \n",
       "157682     chrY_90793680_90816349_+   ctrl_chx           10   \n",
       "\n",
       "        annotation_status  chrom      start        end strand  \\\n",
       "0                       3  chr10  100584009  100586191      -   \n",
       "1                       3  chr10  105763461  105765220      -   \n",
       "2                       3  chr10  105765291  105765964      -   \n",
       "3                       3  chr10  105779681  105793340      -   \n",
       "4                       3  chr10  105793413  105794362      -   \n",
       "...                   ...    ...        ...        ...    ...   \n",
       "157679                  3   chrY   90793417   90816349      +   \n",
       "157679                  3   chrY   90793417   90816349      +   \n",
       "157680                  3   chrY   90793417   90816349      +   \n",
       "157681                  1   chrY   90793417   90822286      +   \n",
       "157682                  3   chrY   90793680   90816349      +   \n",
       "\n",
       "                site_id      site  total_count_site  \n",
       "0                   NaN       NaN               NaN  \n",
       "1                   NaN       NaN               NaN  \n",
       "2                   NaN       NaN               NaN  \n",
       "3                   NaN       NaN               NaN  \n",
       "4                   NaN       NaN               NaN  \n",
       "...                 ...       ...               ...  \n",
       "157679  chrY_90793417_+  90793417             187.0  \n",
       "157679  chrY_90816349_+  90816349               7.0  \n",
       "157680  chrY_90793417_+  90793417             306.0  \n",
       "157681  chrY_90793417_+  90793417             306.0  \n",
       "157682  chrY_90793680_+  90793680             222.0  \n",
       "\n",
       "[172497 rows x 11 columns]"
      ]
     },
     "execution_count": 6,
     "metadata": {},
     "output_type": "execute_result"
    }
   ],
   "source": [
    "# Apply the function and expand the list of rows in the DataFrame\n",
    "data_merged_expanded = pd.DataFrame([item for sublist in data_merged.apply(split_rows, axis=1) for item in sublist])\n",
    "\n",
    "data_merged_expanded = data_merged_expanded.drop(columns=['total_count_start', 'site_id_end', 'total_count_end', 'site_end'])\n",
    "data_merged_expanded"
   ]
  },
  {
   "cell_type": "markdown",
   "id": "d5c5ac5d",
   "metadata": {},
   "source": [
    "Save this table with all types of reads"
   ]
  },
  {
   "cell_type": "code",
   "execution_count": 7,
   "id": "74c2cc73",
   "metadata": {},
   "outputs": [],
   "source": [
    "data_merged_expanded.to_csv(path/'merged_IPSA_j6_s6.csv', index=False)"
   ]
  },
  {
   "cell_type": "markdown",
   "id": "343ea0a0",
   "metadata": {},
   "source": [
    "For futher analysis use only J6 reads"
   ]
  },
  {
   "cell_type": "code",
   "execution_count": 8,
   "id": "30e4ddb7",
   "metadata": {},
   "outputs": [],
   "source": [
    "df = data_merged_expanded.drop_duplicates()\n",
    "df = df.iloc[:,:8].reset_index(drop=True).drop_duplicates()"
   ]
  },
  {
   "cell_type": "markdown",
   "id": "5fa7a15e",
   "metadata": {},
   "source": [
    "Make table with cassete exons"
   ]
  },
  {
   "cell_type": "code",
   "execution_count": 9,
   "id": "5a2b70cc",
   "metadata": {},
   "outputs": [],
   "source": [
    "cassete_exons = get_cassete_exons_from_ipsa(df).drop_duplicates()\n",
    "\n",
    "for col in ['start', 'end', 'start_exon', 'end_exon']:\n",
    "    cassete_exons[col] = cassete_exons[col].astype(str).astype(int)\n",
    "\n",
    "cassete_exons['chx'] = np.where(\n",
    "    cassete_exons['experiment'].str.contains('chx', na=False),\n",
    "    '+chx', '-chx'\n",
    ")\n",
    "\n",
    "mask = cassete_exons['chx'] == '+chx'\n",
    "cassete_exons.loc[mask, 'experiment'] = cassete_exons.loc[mask, 'experiment'].str.replace('_chx', '', regex=False)\n"
   ]
  },
  {
   "cell_type": "markdown",
   "id": "34241487",
   "metadata": {},
   "source": [
    "We want to expand the table so that one row contains data for both types of experiments"
   ]
  },
  {
   "cell_type": "code",
   "execution_count": 10,
   "id": "a6a3c2af",
   "metadata": {},
   "outputs": [],
   "source": [
    "# Grouping by ‘start’ and ‘end’\n",
    "df_grouped = cassete_exons.pivot_table(index=[\"start_exon\", \"end_exon\", \"experiment\"], columns=\"chx\", aggfunc=\"first\")\n",
    "\n",
    "df_grouped.columns = [f\"{col[1]}_{col[0]}\" for col in df_grouped.columns]\n",
    "df_grouped.reset_index(inplace=True)"
   ]
  },
  {
   "cell_type": "markdown",
   "id": "0747ef36",
   "metadata": {},
   "source": [
    "Convert this table, if there is NA somewhere, fill with zeros (these reids are not present)"
   ]
  },
  {
   "cell_type": "code",
   "execution_count": 11,
   "id": "069a68e1",
   "metadata": {},
   "outputs": [],
   "source": [
    "df_grouped.fillna(0, inplace=True)\n",
    "\n",
    "columns = ['chrom', 'strand', 'start', 'end']\n",
    "for col in columns:\n",
    "    df_grouped[col] = df_grouped[f'+chx_{col}'].where(df_grouped[f'+chx_{col}'] != 0, df_grouped[f'-chx_{col}'])\n",
    "\n",
    "to_drop = [f'{sign}chx_{col}' for sign in ('+', '-') for col in columns]\n",
    "df_grouped.drop(columns=to_drop, inplace=True)"
   ]
  },
  {
   "cell_type": "markdown",
   "id": "74ac241b",
   "metadata": {},
   "source": [
    "Save table with cassete exons"
   ]
  },
  {
   "cell_type": "code",
   "execution_count": 12,
   "id": "23aaafb3",
   "metadata": {},
   "outputs": [],
   "source": [
    "df_grouped.to_csv(path_out_csv, index=False)"
   ]
  },
  {
   "cell_type": "markdown",
   "id": "cad843b2",
   "metadata": {},
   "source": [
    "Make custom track for UCSC genome browser"
   ]
  },
  {
   "cell_type": "code",
   "execution_count": 13,
   "id": "8cc20db3",
   "metadata": {},
   "outputs": [],
   "source": [
    "ce_bed = make_track(df_grouped)\n",
    "ce_bed[\"score\"] = ce_bed[\"score\"].fillna(0)\n",
    "ce_bed['chromStart'] = ce_bed['chromStart'].astype(int).astype(str)\n",
    "ce_bed['chromEnd'] = ce_bed['chromEnd'].astype(int).astype(str)\n",
    "\n",
    "# Writing to BED file\n",
    "header = ('track name=\"chx_cassette\" description=\"chx_cassette_exons, PSI = (2e) / (2e + i1 + i2)\" '\n",
    "          'visibility=2 color=103,137,33 itemRgb=\"on\" useScore=1') # Check header for custom track\n",
    "with open(path_out_bed, \"w\") as f:\n",
    "    f.write(header + \"\\n\")\n",
    "ce_bed.to_csv(path_out_bed, mode=\"a\", sep=' ', index=False, header=False, quoting=3)"
   ]
  }
 ],
 "metadata": {
  "kernelspec": {
   "display_name": "base",
   "language": "python",
   "name": "python3"
  },
  "language_info": {
   "codemirror_mode": {
    "name": "ipython",
    "version": 3
   },
   "file_extension": ".py",
   "mimetype": "text/x-python",
   "name": "python",
   "nbconvert_exporter": "python",
   "pygments_lexer": "ipython3",
   "version": "3.12.7"
  }
 },
 "nbformat": 4,
 "nbformat_minor": 5
}
