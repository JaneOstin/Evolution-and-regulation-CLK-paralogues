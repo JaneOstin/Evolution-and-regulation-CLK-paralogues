{
 "cells": [
  {
   "cell_type": "code",
   "execution_count": 1,
   "id": "ed689f47",
   "metadata": {},
   "outputs": [],
   "source": [
    "import pandas as pd\n",
    "import mygene\n",
    "import pyranges as pr\n",
    "import matplotlib.pyplot as plt\n",
    "import seaborn as sns\n",
    "\n",
    "from pathlib import Path\n",
    "from modules.utils import select_exon"
   ]
  },
  {
   "cell_type": "markdown",
   "id": "80471683",
   "metadata": {},
   "source": [
    "_Example:_ for mice experiments"
   ]
  },
  {
   "cell_type": "code",
   "execution_count": null,
   "id": "f69418bd",
   "metadata": {},
   "outputs": [],
   "source": [
    "genes = ['CLK1', 'CLK2', 'CLK3', 'CLK4']\n",
    "\n",
    "species = 'mouse'\n",
    "assembly= \"m10\"\n",
    "\n",
    "main_isoforms = {\n",
    "    'CLK1': 'ENSMUST00000034868',\n",
    "    'CLK2': 'ENSMUST00000121931',\n",
    "    'CLK3': 'ENSMUST00000065330',\n",
    "    'CLK4': 'ENSMUST00000093132'\n",
    "}\n",
    "\n",
    "gff_file = \"/Users/antoninakuznetsova/Desktop/CLK/gencode.vM36.annotation.gff3\" # Annotation file\n",
    "\n",
    "path = Path('./pyIPSA_mice/').expanduser()\n",
    "path_csv = path/'cassete_exons_mice.csv'"
   ]
  },
  {
   "cell_type": "markdown",
   "id": "816f71de",
   "metadata": {},
   "source": [
    "Get genes coordinates"
   ]
  },
  {
   "cell_type": "code",
   "execution_count": 4,
   "id": "cd932f6d",
   "metadata": {},
   "outputs": [
    {
     "name": "stderr",
     "output_type": "stream",
     "text": [
      "Input sequence provided is already in string format. No operation performed\n",
      "Input sequence provided is already in string format. No operation performed\n",
      "Input sequence provided is already in string format. No operation performed\n",
      "Input sequence provided is already in string format. No operation performed\n"
     ]
    }
   ],
   "source": [
    "mg = mygene.MyGeneInfo()\n",
    "records = []\n",
    "\n",
    "for gene in genes:\n",
    "    gene_info = mg.query(gene, fields='genomic_pos', species=species, assembly=assembly, as_dataframe=True)\n",
    "\n",
    "    if gene_info.empty:\n",
    "        continue\n",
    "\n",
    "    # Take first row\n",
    "    row = gene_info.iloc[0].copy()\n",
    "\n",
    "    # Handle the case if the field is empty and we need to extract it from a nested structure\n",
    "    if pd.isna(row.get('genomic_pos.chr', None)):\n",
    "        pos_data = row['genomic_pos'][0]\n",
    "        for key in ['chr', 'start', 'end', 'ensemblgene', 'strand']:\n",
    "            row[f'genomic_pos.{key}'] = pos_data.get(key)\n",
    "\n",
    "    row['gene'] = gene\n",
    "    records.append(row)\n",
    "\n",
    "genes_coordinates = pd.DataFrame(records)\n",
    "genes_coordinates.drop(columns=['genomic_pos'], errors='ignore', inplace=True)\n",
    "genes_coordinates['genomic_pos.strand'] = genes_coordinates['genomic_pos.strand'].map({-1.0: '-', 1.0: '+'})\n",
    "genes_coordinates['genomic_pos.chr'] = 'chr' + genes_coordinates['genomic_pos.chr'].astype(str)\n",
    "genes_coordinates['genomic_pos.start'] = genes_coordinates['genomic_pos.start'].astype(int)\n",
    "genes_coordinates['genomic_pos.end'] = genes_coordinates['genomic_pos.end'].astype(int)\n",
    "genes_coordinates.rename(columns={'genomic_pos.chr': 'Chromosome'}, inplace=True)"
   ]
  },
  {
   "cell_type": "markdown",
   "id": "e3926530",
   "metadata": {},
   "source": [
    "Get cassete exons only for our genes"
   ]
  },
  {
   "cell_type": "code",
   "execution_count": 5,
   "id": "92fe5c7a",
   "metadata": {},
   "outputs": [],
   "source": [
    "df_cassette_exons = pd.read_csv(path_csv).drop(columns=['start', 'end'])\n",
    "df_cassette_exons.rename(columns={\"start_exon\": \"Start\", \"end_exon\": \"End\"}, inplace=True)\n",
    "\n",
    "# If the species is mouse, substitute coordinates after liftover from another genome\n",
    "if species == 'mouse':\n",
    "    after_liftover = pd.read_csv(path / 'hglft_genome_1905d3_acfa80.bed', sep='\\t', header=None, names=['chr', 's', 'e'])\n",
    "    df_cassette_exons = (\n",
    "        df_cassette_exons\n",
    "        .reset_index(drop=True)\n",
    "        .join(after_liftover)\n",
    "        .drop(columns=['Start', 'End', 'chr'])\n",
    "        .rename(columns={'s': 'Start', 'e': 'End'})\n",
    "    )\n",
    "\n",
    "columns_order = [\n",
    "    'Start', 'End', 'ctrl_exclusion_count', 'ctrl_chx_exclusion_count',\n",
    "    'ctrl_i1', 'ctrl_chx_i1', 'ctrl_i2', 'ctrl_chx_i2',\n",
    "    'ctrl_psi', 'ctrl_chx_psi', 'chrom', 'strand'\n",
    "]\n",
    "\n",
    "df_cassette_exons = df_cassette_exons[columns_order]"
   ]
  },
  {
   "cell_type": "markdown",
   "id": "dd1c043b",
   "metadata": {},
   "source": [
    "Merge exon and gene data"
   ]
  },
  {
   "cell_type": "code",
   "execution_count": 6,
   "id": "121eca56",
   "metadata": {},
   "outputs": [],
   "source": [
    "cols = \"Chromosome Start End Strand\".split()\n",
    "df_genes = genes_coordinates[['Chromosome', 'genomic_pos.start', 'genomic_pos.end', 'genomic_pos.strand']]\n",
    "df_exons = df_cassette_exons[['chrom', 'Start', 'End', 'strand']]\n",
    "df_genes.columns = cols\n",
    "df_exons.columns = cols\n",
    "\n",
    "# Create PyRanges objects for genes and exons\n",
    "gr1, gr2 = pr.PyRanges(df_genes), pr.PyRanges(df_exons)\n",
    "gr = gr1.intersect(gr2)\n",
    "\n",
    "df_exons_genes = gr.df\n",
    "df_exons_genes = df_exons_genes.merge(df_cassette_exons[df_cassette_exons.columns[:10]], how='left', on=['Start', 'End'])\n",
    "df_exons_genes = df_exons_genes.merge(genes_coordinates[['gene', 'Chromosome']], how='right', on='Chromosome')\n",
    "\n",
    "# Calculate the PSI difference between the ctrl and ctrl+chx experiments\n",
    "df_exons_genes['dPSI'] = df_exons_genes['ctrl_psi'] - df_exons_genes['ctrl_chx_psi']"
   ]
  },
  {
   "cell_type": "markdown",
   "id": "04c80d41",
   "metadata": {},
   "source": [
    "Extracting exons of major isoforms and their positions"
   ]
  },
  {
   "cell_type": "code",
   "execution_count": 8,
   "id": "44cbf658",
   "metadata": {},
   "outputs": [
    {
     "name": "stderr",
     "output_type": "stream",
     "text": [
      "/var/folders/0z/f5_949pj6mv3z238ns_dy0cm0000gn/T/ipykernel_5849/3341203634.py:16: SettingWithCopyWarning: \n",
      "A value is trying to be set on a copy of a slice from a DataFrame.\n",
      "Try using .loc[row_indexer,col_indexer] = value instead\n",
      "\n",
      "See the caveats in the documentation: https://pandas.pydata.org/pandas-docs/stable/user_guide/indexing.html#returning-a-view-versus-a-copy\n",
      "  df_temp['gene'] = key\n",
      "/var/folders/0z/f5_949pj6mv3z238ns_dy0cm0000gn/T/ipykernel_5849/3341203634.py:17: SettingWithCopyWarning: \n",
      "A value is trying to be set on a copy of a slice from a DataFrame.\n",
      "Try using .loc[row_indexer,col_indexer] = value instead\n",
      "\n",
      "See the caveats in the documentation: https://pandas.pydata.org/pandas-docs/stable/user_guide/indexing.html#returning-a-view-versus-a-copy\n",
      "  df_temp['exon_number'] = df_temp[\"attributes\"].str.extract(r\"exon_number=(\\d+)\")\n",
      "/var/folders/0z/f5_949pj6mv3z238ns_dy0cm0000gn/T/ipykernel_5849/3341203634.py:34: FutureWarning: The behavior of DataFrame concatenation with empty or all-NA entries is deprecated. In a future version, this will no longer exclude empty or all-NA columns when determining the result dtypes. To retain the old behavior, exclude the relevant entries before the concat operation.\n",
      "  df_introns = pd.concat([df_introns, df_merged], ignore_index=True)\n",
      "/var/folders/0z/f5_949pj6mv3z238ns_dy0cm0000gn/T/ipykernel_5849/3341203634.py:16: SettingWithCopyWarning: \n",
      "A value is trying to be set on a copy of a slice from a DataFrame.\n",
      "Try using .loc[row_indexer,col_indexer] = value instead\n",
      "\n",
      "See the caveats in the documentation: https://pandas.pydata.org/pandas-docs/stable/user_guide/indexing.html#returning-a-view-versus-a-copy\n",
      "  df_temp['gene'] = key\n",
      "/var/folders/0z/f5_949pj6mv3z238ns_dy0cm0000gn/T/ipykernel_5849/3341203634.py:17: SettingWithCopyWarning: \n",
      "A value is trying to be set on a copy of a slice from a DataFrame.\n",
      "Try using .loc[row_indexer,col_indexer] = value instead\n",
      "\n",
      "See the caveats in the documentation: https://pandas.pydata.org/pandas-docs/stable/user_guide/indexing.html#returning-a-view-versus-a-copy\n",
      "  df_temp['exon_number'] = df_temp[\"attributes\"].str.extract(r\"exon_number=(\\d+)\")\n",
      "/var/folders/0z/f5_949pj6mv3z238ns_dy0cm0000gn/T/ipykernel_5849/3341203634.py:16: SettingWithCopyWarning: \n",
      "A value is trying to be set on a copy of a slice from a DataFrame.\n",
      "Try using .loc[row_indexer,col_indexer] = value instead\n",
      "\n",
      "See the caveats in the documentation: https://pandas.pydata.org/pandas-docs/stable/user_guide/indexing.html#returning-a-view-versus-a-copy\n",
      "  df_temp['gene'] = key\n",
      "/var/folders/0z/f5_949pj6mv3z238ns_dy0cm0000gn/T/ipykernel_5849/3341203634.py:17: SettingWithCopyWarning: \n",
      "A value is trying to be set on a copy of a slice from a DataFrame.\n",
      "Try using .loc[row_indexer,col_indexer] = value instead\n",
      "\n",
      "See the caveats in the documentation: https://pandas.pydata.org/pandas-docs/stable/user_guide/indexing.html#returning-a-view-versus-a-copy\n",
      "  df_temp['exon_number'] = df_temp[\"attributes\"].str.extract(r\"exon_number=(\\d+)\")\n",
      "/var/folders/0z/f5_949pj6mv3z238ns_dy0cm0000gn/T/ipykernel_5849/3341203634.py:16: SettingWithCopyWarning: \n",
      "A value is trying to be set on a copy of a slice from a DataFrame.\n",
      "Try using .loc[row_indexer,col_indexer] = value instead\n",
      "\n",
      "See the caveats in the documentation: https://pandas.pydata.org/pandas-docs/stable/user_guide/indexing.html#returning-a-view-versus-a-copy\n",
      "  df_temp['gene'] = key\n",
      "/var/folders/0z/f5_949pj6mv3z238ns_dy0cm0000gn/T/ipykernel_5849/3341203634.py:17: SettingWithCopyWarning: \n",
      "A value is trying to be set on a copy of a slice from a DataFrame.\n",
      "Try using .loc[row_indexer,col_indexer] = value instead\n",
      "\n",
      "See the caveats in the documentation: https://pandas.pydata.org/pandas-docs/stable/user_guide/indexing.html#returning-a-view-versus-a-copy\n",
      "  df_temp['exon_number'] = df_temp[\"attributes\"].str.extract(r\"exon_number=(\\d+)\")\n"
     ]
    }
   ],
   "source": [
    "df = pd.read_csv(gff_file, sep=\"\\t\", comment=\"#\", header=None, \n",
    "                names=[\"chr\", \"source\", \"type\", \"start\", \"end\", \n",
    "                        \"score\", \"strand\", \"phase\", \"attributes\"])\n",
    "\n",
    "# Leave only the lines with exons\n",
    "df_exons = df[df[\"type\"] == \"exon\"]\n",
    "\n",
    "df_exons_filtered = pd.DataFrame(columns=[\"chr\", \"source\", \"type\", \"start\", \"end\", \n",
    "                        \"score\", \"strand\", \"phase\", \"attributes\", \"gene\", \"exon_number\"])\n",
    "df_introns = pd.DataFrame(columns=[\"chr\", \"source\", \"type\", \"start\", \"end\", \n",
    "                        \"score\", \"strand\", \"phase\", \"attributes\", \"gene\", \"intron_number\"])\n",
    "\n",
    "# Go through the dictionary of major isoforms: key is gene_id, value is transcript_id\n",
    "for key, value in main_isoforms.items():\n",
    "    df_temp = df_exons[df_exons[\"attributes\"].str.contains(f'transcript_id={value}')]\n",
    "    df_temp['gene'] = key\n",
    "    df_temp['exon_number'] = df_temp[\"attributes\"].str.extract(r\"exon_number=(\\d+)\")\n",
    "    df_exons_filtered = pd.concat([df_exons_filtered, df_temp], ignore_index=True)\n",
    "    \n",
    "    df_temp.reset_index(drop=True, inplace=True)\n",
    "    df1 = df_temp.copy()\n",
    "    df2 = df_temp.copy()\n",
    "    df1['my_index'] = df1.index\n",
    "    df2['my_index'] = df2.index\n",
    "    df2['my_index'] = df2['my_index'] - 1\n",
    "    df_merged = df1.merge(df2[['start', 'end', 'my_index']], how='left', on='my_index')\n",
    "    df_merged = df_merged.dropna(subset=['start_y', 'end_y'])\n",
    "    df_merged.rename(columns={\"start_y\": \"end\", \"end_x\": \"start\"}, inplace=True)\n",
    "    df_merged['intron_number'] = df_merged['exon_number'].astype(int) + 1\n",
    "    del df_merged['start_x']\n",
    "    del df_merged['end_y']\n",
    "    del df_merged['exon_number']\n",
    "    del df_merged['my_index']\n",
    "    df_introns = pd.concat([df_introns, df_merged], ignore_index=True)\n",
    "\n",
    "df_introns['end'] = df_introns['end'].astype(int)\n",
    "df_introns['start'] = df_introns['start'].astype(int)\n",
    "df_exons_filtered['end'] = df_exons_filtered['end'].astype(int)\n",
    "df_exons_filtered['start'] = df_exons_filtered['start'].astype(int)"
   ]
  },
  {
   "cell_type": "markdown",
   "id": "0f9a4550",
   "metadata": {},
   "source": [
    "Merge tables"
   ]
  },
  {
   "cell_type": "code",
   "execution_count": 9,
   "id": "a55684f8",
   "metadata": {},
   "outputs": [],
   "source": [
    "df_exons_genes = df_exons_genes.merge(df_exons_filtered[['start', 'end', 'exon_number']], how='left', right_on=['start', 'end'], left_on=['Start', 'End'])\n",
    "del df_exons_genes['start']\n",
    "del df_exons_genes['end']"
   ]
  },
  {
   "cell_type": "markdown",
   "id": "1e98253f",
   "metadata": {},
   "source": [
    "Get intron intervals"
   ]
  },
  {
   "cell_type": "code",
   "execution_count": 10,
   "id": "2010e999",
   "metadata": {},
   "outputs": [],
   "source": [
    "intron_intervals = {}\n",
    "\n",
    "for _, row in df_introns.iterrows():\n",
    "    if row['gene'] not in intron_intervals:\n",
    "        intron_intervals[row['gene']] = {}\n",
    "    if row['strand'] == '-':\n",
    "        intron_intervals[row['gene']][row['intron_number']] = [int(row['end']), int(row['start'])]    \n",
    "    else:\n",
    "        intron_intervals[row['gene']][row['intron_number']] = [int(row['start']), int(row['end'])]"
   ]
  },
  {
   "cell_type": "markdown",
   "id": "5638128a",
   "metadata": {},
   "source": [
    "Name exons in our cassete exons by intron intervals"
   ]
  },
  {
   "cell_type": "code",
   "execution_count": 11,
   "id": "0ba3ec0b",
   "metadata": {},
   "outputs": [],
   "source": [
    "df_exons_genes['exon_number'] = df_exons_genes.apply(lambda row: select_exon(row, intron_intervals), axis=1)"
   ]
  },
  {
   "cell_type": "markdown",
   "id": "33a0e0b5",
   "metadata": {},
   "source": [
    "Visualise dPSI for interested genes"
   ]
  },
  {
   "cell_type": "code",
   "execution_count": null,
   "id": "cadf4e69",
   "metadata": {},
   "outputs": [
    {
     "name": "stderr",
     "output_type": "stream",
     "text": [
      "/var/folders/0z/f5_949pj6mv3z238ns_dy0cm0000gn/T/ipykernel_5849/357210975.py:4: FutureWarning: \n",
      "\n",
      "The `ci` parameter is deprecated. Use `errorbar=None` for the same effect.\n",
      "\n",
      "  sns.barplot(y=\"exon_number\", x=\"dPSI\", data=df_exons_genes_significant, hue=\"gene\", ci=None, palette='pastel')\n"
     ]
    },
    {
     "data": {
      "image/png": "[encoded data removed]",
      "text/plain": [
       "<Figure size 400x400 with 1 Axes>"
      ]
     },
     "metadata": {},
     "output_type": "display_data"
    }
   ],
   "source": [
    "df_exons_genes_significant = df_exons_genes[abs(df_exons_genes['dPSI']) > 0.01]\n",
    "\n",
    "plt.figure(figsize=(4, 4))\n",
    "sns.barplot(y=\"exon_number\", x=\"dPSI\", data=df_exons_genes_significant, hue=\"gene\", ci=None, palette='pastel')\n",
    "\n",
    "plt.ylabel(\"Exon number\")\n",
    "plt.xlabel(\"dPSI\")\n",
    "plt.axvline(x = 0, color = 'gray', linestyle='dashed')\n",
    "plt.title(f\"dPSI values per gene in {species}\")\n",
    "plt.xticks(rotation=45, ha=\"right\")\n",
    "plt.yticks(rotation=45, ha=\"right\")\n",
    "plt.legend(loc=\"upper left\", bbox_to_anchor=(1,1))\n",
    "\n",
    "plt.savefig(path/'dPSI_mice.svg', bbox_inches='tight')\n",
    "\n",
    "plt.show()"
   ]
  }
 ],
 "metadata": {
  "kernelspec": {
   "display_name": "base",
   "language": "python",
   "name": "python3"
  },
  "language_info": {
   "codemirror_mode": {
    "name": "ipython",
    "version": 3
   },
   "file_extension": ".py",
   "mimetype": "text/x-python",
   "name": "python",
   "nbconvert_exporter": "python",
   "pygments_lexer": "ipython3",
   "version": "3.12.7"
  }
 },
 "nbformat": 4,
 "nbformat_minor": 5
}
