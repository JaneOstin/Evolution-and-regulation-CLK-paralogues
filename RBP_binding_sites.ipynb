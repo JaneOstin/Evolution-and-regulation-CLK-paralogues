{
 "cells": [
  {
   "cell_type": "code",
   "execution_count": null,
   "id": "4e49cf2a",
   "metadata": {},
   "outputs": [],
   "source": [
    "d"
   ]
  }
 ],
 "metadata": {
  "language_info": {
   "name": "python"
  }
 },
 "nbformat": 4,
 "nbformat_minor": 5
}
